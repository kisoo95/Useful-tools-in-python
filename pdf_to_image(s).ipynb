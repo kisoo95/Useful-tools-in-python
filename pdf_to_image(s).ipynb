{
 "cells": [
  {
   "cell_type": "code",
   "execution_count": 17,
   "id": "e934da16",
   "metadata": {},
   "outputs": [],
   "source": [
    "# pdf to image\n",
    "# ! pip install PyMuPDF\n",
    "import fitz\n",
    "import matplotlib.pyplot as plt\n",
    "import os\n",
    "\n",
    "file_dir = 'image_directory'\n",
    "file_list = os.listdir(file_dir)\n",
    "\n",
    "for file in file_list:\n",
    "    doc = fitz.open(file_dir + file)\n",
    "    for i, page in enumerate(doc):\n",
    "        img = page.get_pixmap()\n",
    "        img.save(f\"pdf_directory/{file.split('.pdf')[0]}_{i}.png\")"
   ]
  },
  {
   "cell_type": "code",
   "execution_count": null,
   "id": "f10a1349",
   "metadata": {},
   "outputs": [],
   "source": []
  }
 ],
 "metadata": {
  "kernelspec": {
   "display_name": "Python 3 (ipykernel)",
   "language": "python",
   "name": "python3"
  },
  "language_info": {
   "codemirror_mode": {
    "name": "ipython",
    "version": 3
   },
   "file_extension": ".py",
   "mimetype": "text/x-python",
   "name": "python",
   "nbconvert_exporter": "python",
   "pygments_lexer": "ipython3",
   "version": "3.11.5"
  }
 },
 "nbformat": 4,
 "nbformat_minor": 5
}
