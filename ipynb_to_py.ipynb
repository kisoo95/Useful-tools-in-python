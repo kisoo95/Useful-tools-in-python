{
 "cells": [
  {
   "cell_type": "code",
   "execution_count": null,
   "id": "05372228",
   "metadata": {},
   "outputs": [],
   "source": [
    "! pip install nbconvert"
   ]
  },
  {
   "cell_type": "code",
   "execution_count": 1,
   "id": "343d282d",
   "metadata": {},
   "outputs": [],
   "source": [
    "import nbformat\n",
    "from nbconvert.exporters.script import ScriptExporter\n",
    "\n",
    "with open('functions.ipynb',encoding='UTF-8') as f:\n",
    "    nb = nbformat.read(f, as_version=4)\n",
    "\n",
    "exporter = ScriptExporter()\n",
    "output, resources = exporter.from_notebook_node(nb)\n",
    "\n",
    "for i, module in enumerate(output.split(\"\\n\\n\\n\\n\")):\n",
    "    with open(f\"module_{i}.py\", \"w\",encoding='UTF-8') as f:\n",
    "        f.write(module)"
   ]
  }
 ],
 "metadata": {
  "kernelspec": {
   "display_name": "Python 3 (ipykernel)",
   "language": "python",
   "name": "python3"
  },
  "language_info": {
   "codemirror_mode": {
    "name": "ipython",
    "version": 3
   },
   "file_extension": ".py",
   "mimetype": "text/x-python",
   "name": "python",
   "nbconvert_exporter": "python",
   "pygments_lexer": "ipython3",
   "version": "3.11.5"
  }
 },
 "nbformat": 4,
 "nbformat_minor": 5
}
