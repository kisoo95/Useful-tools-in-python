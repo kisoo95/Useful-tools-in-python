{
 "cells": [
  {
   "cell_type": "code",
   "execution_count": null,
   "id": "f9abbe56",
   "metadata": {},
   "outputs": [],
   "source": [
    "import os\n",
    "from PIL import ImageFont, ImageDraw, Image\n",
    "\n",
    "file_dir = 'read_file_directory'\n",
    "\n",
    "file_list = os.listdir(file_dir)\n",
    "\n",
    "for filefile in file_list:\n",
    "    image_1 = Image.open(file_dir + filefile)\n",
    "    im_1 = image_1.convert('RGB')\n",
    "    im_1.save(r'write_file_directory'+filefile.split('.jpg')[0]+'.pdf', save_all=True)"
   ]
  }
 ],
 "metadata": {
  "kernelspec": {
   "display_name": "Python 3 (ipykernel)",
   "language": "python",
   "name": "python3"
  },
  "language_info": {
   "codemirror_mode": {
    "name": "ipython",
    "version": 3
   },
   "file_extension": ".py",
   "mimetype": "text/x-python",
   "name": "python",
   "nbconvert_exporter": "python",
   "pygments_lexer": "ipython3",
   "version": "3.11.5"
  }
 },
 "nbformat": 4,
 "nbformat_minor": 5
}
